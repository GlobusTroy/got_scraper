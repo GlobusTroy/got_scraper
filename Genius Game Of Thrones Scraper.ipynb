{
 "cells": [
  {
   "cell_type": "code",
   "execution_count": 1,
   "metadata": {},
   "outputs": [],
   "source": [
    "from lxml import html\n",
    "import requests\n",
    "import re\n",
    "import pandas as pd"
   ]
  },
  {
   "cell_type": "code",
   "execution_count": 2,
   "metadata": {},
   "outputs": [],
   "source": [
    "def process(season, episode, stripped):\n",
    "    filtered = [s for s in stripped if not s.startswith(\"/\") and s != \"More on Genius\"]\n",
    "    labeled = []\n",
    "    for f in filtered:\n",
    "        m = re.search('([A-Z ]+):(.*)', f)\n",
    "        if m:\n",
    "            labeled.append([m.group(1),m.group(2)])\n",
    "        elif f.startswith(\"[\"):\n",
    "            labeled.append([\"SCENE\", f])\n",
    "        else:\n",
    "            labeled.append([f])\n",
    "    merged = []\n",
    "    chunks = []\n",
    "    cur = \"DEFAULT\"\n",
    "    for l in labeled:\n",
    "        if len(l) >1:\n",
    "            merged.append([cur,chunks])\n",
    "            chunks = []\n",
    "            cur = l[0]\n",
    "            chunks.append(l[1])\n",
    "        else:\n",
    "            chunks.append(l[0])\n",
    "\n",
    "    return [[season, episode, m[0], \" \".join(m[1]).strip()] for m in merged]\n",
    "\n"
   ]
  },
  {
   "cell_type": "code",
   "execution_count": null,
   "metadata": {},
   "outputs": [
    {
     "name": "stdout",
     "output_type": "stream",
     "text": [
      "0 0 https://genius.com/Game-of-thrones-winter-is-coming-annotated\n",
      "0 1 https://genius.com/Game-of-thrones-the-kingsroad-annotated\n",
      "0 2 https://genius.com/Game-of-thrones-lord-snow-annotated\n",
      "0 3 https://genius.com/Game-of-thrones-cripples-bastards-and-broken-things-annotated\n",
      "0 4 https://genius.com/Game-of-thrones-the-wolf-and-the-lion-annotated\n",
      "0 5 https://genius.com/Game-of-thrones-a-golden-crown-annotated\n",
      "0 6 https://genius.com/Game-of-thrones-you-win-or-you-die-annotated\n",
      "0 7 https://genius.com/Game-of-thrones-the-pointy-end-annotated\n",
      "0 8 https://genius.com/Game-of-thrones-baelor-annotated\n",
      "0 9 https://genius.com/Game-of-thrones-fire-and-blood-annotated\n",
      "1 0 https://genius.com/Game-of-thrones-the-north-remembers-script-annotated\n",
      "1 1 https://genius.com/Game-of-thrones-the-night-lands-script-annotated\n",
      "1 2 https://genius.com/Game-of-thrones-what-is-dead-may-never-die-annotated\n",
      "2 0 https://genius.com/Game-of-thrones-the-rains-of-castamere-annotated\n",
      "skipping:  https://genius.com/Game-of-thrones-valar-dohaeris-needs-editing-annotated\n",
      "2 2 https://genius.com/Game-of-thrones-dark-wings-dark-words-annotated\n",
      "2 3 https://genius.com/Game-of-thrones-walk-of-punishment-annotated\n",
      "3 0 https://genius.com/Game-of-thrones-two-swords-annotated\n",
      "skipping:  https://genius.com/Game-of-thrones-the-lion-and-the-rose-needs-editing-annotated\n",
      "skipping:  https://genius.com/Game-of-thrones-breaker-of-chains-needs-editing-annotated\n",
      "skipping:  https://genius.com/Game-of-thrones-oathkeeper-needs-editing-annotated\n",
      "skipping:  https://genius.com/Game-of-thrones-first-of-his-name-needs-editing-annotated\n",
      "skipping:  https://genius.com/Game-of-thrones-the-laws-of-gods-and-men-needs-editing-annotated\n",
      "skipping:  https://genius.com/Game-of-thrones-mockingbird-needs-editing-annotated\n",
      "3 7 https://genius.com/Game-of-thrones-the-mountain-and-the-viper-annotated\n",
      "3 8 https://genius.com/Game-of-thrones-the-watchers-on-the-wall-annotated\n",
      "3 9 https://genius.com/Game-of-thrones-the-children-annotated\n",
      "3 10 https://genius.com/Game-of-thrones-season-4-preview-annotated\n",
      "4 0 https://genius.com/Game-of-thrones-the-wars-to-come-script-annotated\n",
      "4 1 https://genius.com/Game-of-thrones-the-house-of-black-and-white-annotated\n",
      "4 2 https://genius.com/Game-of-thrones-high-sparrow-script-annotated\n",
      "4 3 https://genius.com/Game-of-thrones-sons-of-the-harpy-script-annotated\n",
      "4 4 https://genius.com/Game-of-thrones-kill-the-boy-script-annotated\n",
      "4 5 https://genius.com/Game-of-thrones-unbowed-unbent-unbroken-script-annotated\n",
      "4 6 https://genius.com/Game-of-thrones-the-gift-script-annotated\n",
      "4 7 https://genius.com/Game-of-thrones-hardhome-script-annotated\n",
      "4 8 https://genius.com/Game-of-thrones-the-dance-of-dragons-script-annotated\n",
      "4 9 https://genius.com/Game-of-thrones-mothers-mercy-script-annotated\n",
      "4 10 https://genius.com/Game-of-thrones-season-5-trailer-breakdown-annotated\n",
      "5 0 https://genius.com/Game-of-thrones-the-red-woman-script-annotated\n",
      "5 1 https://genius.com/Game-of-thrones-home-script-annotated\n",
      "5 2 https://genius.com/Game-of-thrones-oathbreaker-script-annotated\n",
      "5 3 https://genius.com/Game-of-thrones-book-of-the-stranger-script-annotated\n",
      "5 4 https://genius.com/Game-of-thrones-the-door-script-annotated\n",
      "5 5 https://genius.com/Game-of-thrones-blood-of-my-blood-script-annotated\n",
      "5 6 https://genius.com/Game-of-thrones-the-broken-man-script-annotated\n",
      "5 7 https://genius.com/Game-of-thrones-no-one-script-annotated\n"
     ]
    }
   ],
   "source": [
    "# these were in bad shape:\n",
    "#  \"https://genius.com/albums/Game-of-thrones/Season-7-scripts\"\n",
    "\n",
    "\n",
    "seasons = [\n",
    "    \"https://genius.com/albums/Game-of-thrones/Season-1-scripts\",\n",
    "    \"https://genius.com/albums/Game-of-thrones/Season-2-scripts\",\n",
    "    \"https://genius.com/albums/Game-of-thrones/Season-3-scripts\",\n",
    "    \"https://genius.com/albums/Game-of-thrones/Season-4-scripts\",\n",
    "    \"https://genius.com/albums/Game-of-thrones/Season-5-scripts\",\n",
    "    \"https://genius.com/albums/Game-of-thrones/Season-6-scripts\",\n",
    "]\n",
    "\n",
    "episodes = [];\n",
    "for sidx, url in enumerate(seasons):\n",
    "    page = requests.get(url)\n",
    "    tree = html.fromstring(page.content)\n",
    "    ep_urls = tree.xpath(\"//div[contains(@class, 'chart_row')]/a/@href\")    \n",
    "    for eidx, ep in enumerate(ep_urls):\n",
    "        if \"needs-editing\" in ep:\n",
    "            print(\"skipping: \", ep)\n",
    "            continue\n",
    "        print(sidx, eidx, ep)\n",
    "        page = requests.get(ep)\n",
    "        tree = html.fromstring(page.content)\n",
    "        raw = tree.xpath(\"//div[contains(@class, 'lyrics')]/descendant::*/text()\")\n",
    "        stripped = [r.strip() for r in raw if r.strip() != '']\n",
    "        processed = process(sidx, eidx, stripped)\n",
    "        episodes = episodes + processed\n",
    "    "
   ]
  },
  {
   "cell_type": "code",
   "execution_count": null,
   "metadata": {
    "scrolled": true
   },
   "outputs": [],
   "source": [
    "dat = pd.DataFrame(episodes)\n",
    "dat.columns = [\"season_idx\", \"episode_idx\", \"character\", \"utterance\"]\n",
    "dat.to_csv(\"got.csv\")"
   ]
  },
  {
   "cell_type": "code",
   "execution_count": null,
   "metadata": {
    "scrolled": false
   },
   "outputs": [],
   "source": [
    "pd.options.display.max_colwidth = 1000\n",
    "dat"
   ]
  },
  {
   "cell_type": "code",
   "execution_count": null,
   "metadata": {},
   "outputs": [],
   "source": []
  }
 ],
 "metadata": {
  "kernelspec": {
   "display_name": "Python 3",
   "language": "python",
   "name": "python3"
  },
  "language_info": {
   "codemirror_mode": {
    "name": "ipython",
    "version": 3
   },
   "file_extension": ".py",
   "mimetype": "text/x-python",
   "name": "python",
   "nbconvert_exporter": "python",
   "pygments_lexer": "ipython3",
   "version": "3.6.4"
  }
 },
 "nbformat": 4,
 "nbformat_minor": 2
}
